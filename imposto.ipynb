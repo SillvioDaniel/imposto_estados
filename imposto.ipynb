{
 "cells": [
  {
   "cell_type": "code",
   "execution_count": null,
   "metadata": {},
   "outputs": [],
   "source": [
    "# importando bibliotecas\n",
    "import pandas as pd\n",
    "import numpy as np\n",
    "import matplotlib.pyplot as plt"
   ]
  },
  {
   "cell_type": "code",
   "execution_count": null,
   "metadata": {},
   "outputs": [],
   "source": [
    "#importando CSV\n",
    "df = pd.read_csv('dados/estado-de-residencia-do-declarante.csv',sep=';')"
   ]
  },
  {
   "cell_type": "code",
   "execution_count": null,
   "metadata": {},
   "outputs": [],
   "source": [
    "df.info()"
   ]
  },
  {
   "cell_type": "code",
   "execution_count": null,
   "metadata": {},
   "outputs": [],
   "source": [
    "df.head()"
   ]
  },
  {
   "cell_type": "markdown",
   "metadata": {},
   "source": [
    "#### Limpeza de dados\n"
   ]
  },
  {
   "cell_type": "code",
   "execution_count": null,
   "metadata": {},
   "outputs": [],
   "source": [
    "#Contando nulos\n",
    "df.isnull().sum()"
   ]
  },
  {
   "cell_type": "code",
   "execution_count": null,
   "metadata": {},
   "outputs": [],
   "source": [
    "#Excluindo nulos\n",
    "df.dropna(inplace=True)"
   ]
  },
  {
   "cell_type": "code",
   "execution_count": null,
   "metadata": {},
   "outputs": [],
   "source": [
    "estados = ['Acre', 'Alagoas', 'Amapá', 'Amazonas', 'Bahia', 'Ceará',\n",
    "       'Distrito Federal', 'Espírito Santo', 'Goiás', 'Maranhão',\n",
    "       'Mato Grosso', 'Mato Grosso do Sul', 'Minas Gerais', 'Paraná',\n",
    "       'Paraíba', 'Pará', 'Pernambuco', 'Piauí', 'Rio Grande do Norte',\n",
    "       'Rio Grande do Sul', 'Rio de Janeiro', 'Rondônia', 'Roraima',\n",
    "       'Santa Catarina', 'Sergipe', 'São Paulo', 'Tocantins']\n",
    "\n",
    "df.loc[~df['Estado'].isin(estados)]"
   ]
  },
  {
   "cell_type": "code",
   "execution_count": null,
   "metadata": {},
   "outputs": [],
   "source": [
    "#Excluindo linhas sem estado\n",
    "df.drop(index=[27,55,83,97,139],inplace=True)"
   ]
  },
  {
   "cell_type": "markdown",
   "metadata": {},
   "source": [
    "#### Preparação dos dados"
   ]
  },
  {
   "cell_type": "code",
   "execution_count": null,
   "metadata": {},
   "outputs": [],
   "source": [
    "df.columns"
   ]
  },
  {
   "cell_type": "code",
   "execution_count": null,
   "metadata": {},
   "outputs": [],
   "source": [
    "#Filtrando colunas de interesse\n",
    "colunas = [0,1,2,3,24,29,30,35,36,37,40,42]\n",
    "dados = df.iloc[:,colunas]"
   ]
  },
  {
   "cell_type": "code",
   "execution_count": null,
   "metadata": {},
   "outputs": [],
   "source": [
    "#Removendo vírgulas\n",
    "dados.replace(',','',regex=True,inplace=True)"
   ]
  },
  {
   "cell_type": "code",
   "execution_count": null,
   "metadata": {},
   "outputs": [],
   "source": [
    "#Convertendo tipos\n",
    "dados.iloc[:,3:13] = dados.iloc[:,3:13].astype(float)\n",
    "dados['Ano-Calendário'] = dados['Ano-Calendário'].astype('Int64')"
   ]
  },
  {
   "cell_type": "code",
   "execution_count": null,
   "metadata": {},
   "outputs": [],
   "source": [
    "#Filtrando 2020\n",
    "dados = dados[dados['Ano-Calendário']==2020]"
   ]
  },
  {
   "cell_type": "code",
   "execution_count": null,
   "metadata": {},
   "outputs": [],
   "source": [
    "#Criando coluna Região\n",
    "estados_regioes = {\n",
    "    'Acre': 'Norte',\n",
    "    'Alagoas': 'Nordeste',\n",
    "    'Amapá': 'Norte',\n",
    "    'Amazonas': 'Norte',\n",
    "    'Bahia': 'Nordeste',\n",
    "    'Ceará': 'Nordeste',\n",
    "    'Distrito Federal': 'Centro-Oeste',\n",
    "    'Espírito Santo': 'Sudeste',\n",
    "    'Goiás': 'Centro-Oeste',\n",
    "    'Maranhão': 'Nordeste',\n",
    "    'Mato Grosso': 'Centro-Oeste',\n",
    "    'Mato Grosso do Sul': 'Centro-Oeste',\n",
    "    'Minas Gerais': 'Sudeste',\n",
    "    'Pará': 'Norte',\n",
    "    'Paraíba': 'Nordeste',\n",
    "    'Paraná': 'Sul',\n",
    "    'Pernambuco': 'Nordeste',\n",
    "    'Piauí': 'Nordeste',\n",
    "    'Rio de Janeiro': 'Sudeste',\n",
    "    'Rio Grande do Norte': 'Nordeste',\n",
    "    'Rio Grande do Sul': 'Sul',\n",
    "    'Rondônia': 'Norte',\n",
    "    'Roraima': 'Norte',\n",
    "    'Santa Catarina': 'Sul',\n",
    "    'São Paulo': 'Sudeste',\n",
    "    'Sergipe': 'Nordeste',\n",
    "    'Tocantins': 'Norte'\n",
    "}\n",
    "dados['Região'] = dados['Estado'].map(estados_regioes)"
   ]
  },
  {
   "cell_type": "markdown",
   "metadata": {},
   "source": [
    "#### Visualização de dados"
   ]
  },
  {
   "cell_type": "code",
   "execution_count": null,
   "metadata": {},
   "outputs": [],
   "source": [
    "regioes = dados['Região']\n",
    "#Mudando tamanho de todas as fontes\n",
    "plt.rcParams.update({'font.size': 10})"
   ]
  },
  {
   "cell_type": "code",
   "execution_count": null,
   "metadata": {},
   "outputs": [],
   "source": [
    "figure, axis = plt.subplots(2, 2)\n",
    "\n",
    "#Bens e direitos\n",
    "axis[0, 0].bar(regioes,dados['Bens e Direitos']) \n",
    "axis[0, 0].set_title(\"Bens e direitos\")\n",
    "\n",
    "# Imposto devido\n",
    "axis[0, 1].bar(regioes, dados['Imposto Devido Total']) \n",
    "axis[0, 1].set_title(\"Imposto devido\") \n",
    "  \n",
    "# Doações e heranças\n",
    "axis[1, 0].bar(regioes, dados['Doações e Heranças Recebidas']) \n",
    "axis[1, 0].set_title(\"Doações e Heranças\") \n",
    "  \n",
    "# Doações efetuadas\n",
    "axis[1, 1].bar(regioes, dados['Doações Efetuadas']) \n",
    "axis[1, 1].set_title(\"Doações efetuadas\")\n",
    "#--------------------------------------------------------------------------> \n",
    "plt.tight_layout()\n",
    "\n",
    "plt.show()"
   ]
  },
  {
   "cell_type": "code",
   "execution_count": null,
   "metadata": {},
   "outputs": [],
   "source": [
    "figure, axis = plt.subplots(2, 2)\n",
    "#Despesas com Instrução\n",
    "axis[0, 0].bar(regioes,dados['Despesas com Instrução']) \n",
    "axis[0, 0].set_title(\"Despesas com instrução\")\n",
    "\n",
    "#Despesas Médicas\n",
    "axis[0, 1].bar(regioes, dados['Despesas Médicas']) \n",
    "axis[0, 1].set_title(\"Despesas médicas\") \n",
    "  \n",
    "#Pensão Alimentícia Judicial\n",
    "axis[1, 0].bar(regioes, dados['Pensão Alimentícia Judicial']) \n",
    "axis[1, 0].set_title(\"Pensão Alimentícia\") \n",
    "  \n",
    "#Despesas com Arrendamento Rural\n",
    "axis[1, 1].bar(regioes, dados['Despesas com Arrendamento Rural']) \n",
    "axis[1, 1].set_title(\"Arrendamento Rural\")\n",
    "#--------------------------------------------------------------------------> \n",
    "plt.tight_layout()\n",
    "\n",
    "plt.show()"
   ]
  },
  {
   "cell_type": "markdown",
   "metadata": {},
   "source": [
    "#### Exportação"
   ]
  },
  {
   "cell_type": "code",
   "execution_count": null,
   "metadata": {},
   "outputs": [],
   "source": [
    "dados.to_csv('dados/dados_impostos.csv')"
   ]
  }
 ],
 "metadata": {
  "language_info": {
   "name": "python"
  }
 },
 "nbformat": 4,
 "nbformat_minor": 2
}
